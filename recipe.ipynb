{
 "cells": [
  {
   "cell_type": "code",
   "execution_count": 13,
   "metadata": {},
   "outputs": [],
   "source": [
    "import json as js\n",
    "from sklearn.cluster import KMeans\n",
    "import matplotlib.pyplot as plt\n",
    "import pandas as pd\n",
    "import os \n",
    "import numpy as np\n",
    "\n",
    "with open('C:\\\\Users\\\\relz2\\\\Desktop\\\\project\\\\filteredRecipes.json',encoding =\"utf8\") as f:\n",
    "  data = js.load(f)\n",
    "\n",
    "#print(data)\n",
    "#print(data[1]['datePublished'])"
   ]
  },
  {
   "cell_type": "markdown",
   "metadata": {},
   "source": [
    "notebook"
   ]
  },
  {
   "cell_type": "code",
   "execution_count": 14,
   "metadata": {},
   "outputs": [
    {
     "name": "stdout",
     "output_type": "stream",
     "text": [
      "8110\n",
      "4.334455635711201\n",
      "--------------------\n",
      "661\n",
      "4.417137881159084\n"
     ]
    }
   ],
   "source": [
    "user_ratingData={}\n",
    "total_time={}\n",
    "descrpt={}\n",
    "short_time=[]\n",
    "long_time=[]\n",
    "\n",
    "\n",
    "for x in range(len(data)):\n",
    "    #print(data[x][\"_id\"][\"$oid\"])\n",
    "    if data[x][\"totalTimeVal\"]<20:\n",
    "        short_time.append(data[x][\"rating\"])\n",
    "    elif data[x][\"totalTimeVal\"]>700:\n",
    "        long_time.append(data[x][\"rating\"])\n",
    "    #dict user id with rating\n",
    "    #user_ratingData.update({data[x][\"_id\"][\"$oid\"]:[data[x][\"name\"],data[x][\"ratingData\"]]})\n",
    "\n",
    "    #dict recipe name with total time:\n",
    "    #total_time.update({data[x][\"rating\"]:data[x][\"totalTimeVal\"]})\n",
    "\n",
    "    #dict name with products\n",
    "    descrpt.update({data[x][\"name\"]:data[x][\"recipeIngredient\"]})\n",
    "print(len(short_time))\n",
    "print(sum(short_time)/len(short_time))\n",
    "print(\"--------------------\")\n",
    "print(len(long_time))\n",
    "print(sum(long_time)/len(long_time))\n",
    "    "
   ]
  },
  {
   "cell_type": "code",
   "execution_count": null,
   "metadata": {},
   "outputs": [],
   "source": []
  }
 ],
 "metadata": {
  "interpreter": {
   "hash": "edd604f4e80190d4bc0e07863a7acaaa3f0375b8c94fedcdafa6a7ba92f6847a"
  },
  "kernelspec": {
   "display_name": "Python 3.9.0 32-bit",
   "language": "python",
   "name": "python3"
  },
  "language_info": {
   "codemirror_mode": {
    "name": "ipython",
    "version": 3
   },
   "file_extension": ".py",
   "mimetype": "text/x-python",
   "name": "python",
   "nbconvert_exporter": "python",
   "pygments_lexer": "ipython3",
   "version": "3.9.0"
  },
  "orig_nbformat": 4
 },
 "nbformat": 4,
 "nbformat_minor": 2
}
