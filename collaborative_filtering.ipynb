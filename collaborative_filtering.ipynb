{
 "cells": [
  {
   "cell_type": "code",
   "execution_count": 2,
   "metadata": {},
   "outputs": [],
   "source": [
    "import pandas as pd\n",
    "from surprise import Dataset\n",
    "from surprise import Reader"
   ]
  },
  {
   "cell_type": "code",
   "execution_count": 79,
   "metadata": {},
   "outputs": [],
   "source": [
    "df = pd.read_csv('./data/ratings.csv')\n",
    "reader = Reader(rating_scale=(1, 5))\n",
    "df = df.iloc[0:500000]\n",
    "# Loads Pandas dataframe\n",
    "data = Dataset.load_from_df(df[[\"userId\", \"recipeId\", \"rating\"]], reader)"
   ]
  },
  {
   "cell_type": "code",
   "execution_count": 92,
   "metadata": {},
   "outputs": [],
   "source": [
    "from surprise import KNNWithMeans\n",
    "\n",
    "# To use item-based cosine similarity\n",
    "sim_options = {\n",
    "    \"name\": \"cosine\",\n",
    "    \"user_based\": True,  # Compute  similarities between users\n",
    "    \"min_support\": 3 #minimum number of common items needed between users to consider them for similarity\n",
    "}\n",
    "algo = KNNWithMeans(sim_options=sim_options)"
   ]
  },
  {
   "cell_type": "code",
   "execution_count": 4,
   "metadata": {},
   "outputs": [
    {
     "name": "stdout",
     "output_type": "stream",
     "text": [
      "RMSE: 0.8021\n"
     ]
    },
    {
     "data": {
      "text/plain": [
       "0.8021216100404636"
      ]
     },
     "execution_count": 4,
     "metadata": {},
     "output_type": "execute_result"
    }
   ],
   "source": [
    "from surprise import SVD\n",
    "from surprise import Dataset\n",
    "from surprise import accuracy\n",
    "from surprise.model_selection import train_test_split\n",
    "\n",
    "# sample random trainset and testset\n",
    "# test set is made of 25% of the ratings.\n",
    "trainset, testset = train_test_split(data, test_size=.25)\n",
    "\n",
    "# We'll use the famous SVD algorithm.\n",
    "algo = SVD()\n",
    "\n",
    "# Train the algorithm on the trainset, and predict ratings for the testset\n",
    "algo.fit(trainset)\n",
    "predictions = algo.test(testset)\n",
    "\n",
    "# Then compute RMSE\n",
    "accuracy.rmse(predictions)\n"
   ]
  },
  {
   "cell_type": "code",
   "execution_count": 81,
   "metadata": {},
   "outputs": [
    {
     "data": {
      "text/html": [
       "<div>\n",
       "<style scoped>\n",
       "    .dataframe tbody tr th:only-of-type {\n",
       "        vertical-align: middle;\n",
       "    }\n",
       "\n",
       "    .dataframe tbody tr th {\n",
       "        vertical-align: top;\n",
       "    }\n",
       "\n",
       "    .dataframe thead th {\n",
       "        text-align: right;\n",
       "    }\n",
       "</style>\n",
       "<table border=\"1\" class=\"dataframe\">\n",
       "  <thead>\n",
       "    <tr style=\"text-align: right;\">\n",
       "      <th></th>\n",
       "      <th>RecId</th>\n",
       "      <th>recName</th>\n",
       "    </tr>\n",
       "  </thead>\n",
       "  <tbody>\n",
       "    <tr>\n",
       "      <th>0</th>\n",
       "      <td>23945</td>\n",
       "      <td>Hot Artichoke Dip with Green Chiles</td>\n",
       "    </tr>\n",
       "    <tr>\n",
       "      <th>1</th>\n",
       "      <td>161178</td>\n",
       "      <td>Party Plentiful Guacamole</td>\n",
       "    </tr>\n",
       "    <tr>\n",
       "      <th>2</th>\n",
       "      <td>20945</td>\n",
       "      <td>Magaricz</td>\n",
       "    </tr>\n",
       "    <tr>\n",
       "      <th>3</th>\n",
       "      <td>24301</td>\n",
       "      <td>Christmas Chip Dip</td>\n",
       "    </tr>\n",
       "    <tr>\n",
       "      <th>4</th>\n",
       "      <td>165246</td>\n",
       "      <td>Christmas Dip</td>\n",
       "    </tr>\n",
       "    <tr>\n",
       "      <th>5</th>\n",
       "      <td>23931</td>\n",
       "      <td>Crackle Thins</td>\n",
       "    </tr>\n",
       "    <tr>\n",
       "      <th>6</th>\n",
       "      <td>25500</td>\n",
       "      <td>Texas Stuffed Mushrooms</td>\n",
       "    </tr>\n",
       "    <tr>\n",
       "      <th>7</th>\n",
       "      <td>26694</td>\n",
       "      <td>Antipasto Platter</td>\n",
       "    </tr>\n",
       "    <tr>\n",
       "      <th>8</th>\n",
       "      <td>242204</td>\n",
       "      <td>Corn in a Cup (Elote en Vaso)</td>\n",
       "    </tr>\n",
       "    <tr>\n",
       "      <th>9</th>\n",
       "      <td>178551</td>\n",
       "      <td>Green Onion Ranch Dip</td>\n",
       "    </tr>\n",
       "    <tr>\n",
       "      <th>10</th>\n",
       "      <td>213184</td>\n",
       "      <td>Portobello Bruschetta with Three Cheeses</td>\n",
       "    </tr>\n",
       "    <tr>\n",
       "      <th>11</th>\n",
       "      <td>228778</td>\n",
       "      <td>Creamy Cheesy Spinach Dip</td>\n",
       "    </tr>\n",
       "    <tr>\n",
       "      <th>12</th>\n",
       "      <td>210236</td>\n",
       "      <td>Caraway Cheese Ball</td>\n",
       "    </tr>\n",
       "    <tr>\n",
       "      <th>13</th>\n",
       "      <td>259545</td>\n",
       "      <td>Cranberry Brie Bites</td>\n",
       "    </tr>\n",
       "    <tr>\n",
       "      <th>14</th>\n",
       "      <td>236809</td>\n",
       "      <td>Avocado Deviled Eggs</td>\n",
       "    </tr>\n",
       "    <tr>\n",
       "      <th>15</th>\n",
       "      <td>13543</td>\n",
       "      <td>Serious Herb Cheese Spread</td>\n",
       "    </tr>\n",
       "    <tr>\n",
       "      <th>16</th>\n",
       "      <td>222107</td>\n",
       "      <td>Healthier Jalapeno Popper Spread</td>\n",
       "    </tr>\n",
       "    <tr>\n",
       "      <th>17</th>\n",
       "      <td>143013</td>\n",
       "      <td>Phyllo Turnovers with Shrimp and Ricotta Filling</td>\n",
       "    </tr>\n",
       "    <tr>\n",
       "      <th>18</th>\n",
       "      <td>231010</td>\n",
       "      <td>Chef John's Baked Eggplant Sandwiches</td>\n",
       "    </tr>\n",
       "    <tr>\n",
       "      <th>19</th>\n",
       "      <td>81223</td>\n",
       "      <td>Artichoke, Cheese and Olive Antipasto</td>\n",
       "    </tr>\n",
       "  </tbody>\n",
       "</table>\n",
       "</div>"
      ],
      "text/plain": [
       "     RecId                                           recName\n",
       "0    23945               Hot Artichoke Dip with Green Chiles\n",
       "1   161178                         Party Plentiful Guacamole\n",
       "2    20945                                          Magaricz\n",
       "3    24301                                Christmas Chip Dip\n",
       "4   165246                                     Christmas Dip\n",
       "5    23931                                     Crackle Thins\n",
       "6    25500                           Texas Stuffed Mushrooms\n",
       "7    26694                                 Antipasto Platter\n",
       "8   242204                     Corn in a Cup (Elote en Vaso)\n",
       "9   178551                             Green Onion Ranch Dip\n",
       "10  213184          Portobello Bruschetta with Three Cheeses\n",
       "11  228778                         Creamy Cheesy Spinach Dip\n",
       "12  210236                               Caraway Cheese Ball\n",
       "13  259545                              Cranberry Brie Bites\n",
       "14  236809                              Avocado Deviled Eggs\n",
       "15   13543                        Serious Herb Cheese Spread\n",
       "16  222107                  Healthier Jalapeno Popper Spread\n",
       "17  143013  Phyllo Turnovers with Shrimp and Ricotta Filling\n",
       "18  231010             Chef John's Baked Eggplant Sandwiches\n",
       "19   81223             Artichoke, Cheese and Olive Antipasto"
      ]
     },
     "execution_count": 81,
     "metadata": {},
     "output_type": "execute_result"
    }
   ],
   "source": [
    "import pandas as pd\n",
    "import os \n",
    "import numpy as np\n",
    "\n",
    "dirname=os.path.dirname(os.path.abspath('__file__'))\n",
    "filename=os.path.join(dirname,'./data/recipesData.json')\n",
    "df = pd.read_json(filename)\n",
    "\n",
    "df = df.loc[:,['RecId', 'name']]\n",
    "df = df.rename(columns={\"name\":\"recName\"})\n",
    "df.head(20)"
   ]
  },
  {
   "cell_type": "code",
   "execution_count": 82,
   "metadata": {},
   "outputs": [],
   "source": [
    "ID_to_name = {}\n",
    "name_to_ID = {}\n",
    "for index,row in df.iterrows():\n",
    "    ID_to_name[row.RecId] = row.recName\n",
    "    name_to_ID[row.recName] = row.RecId "
   ]
  },
  {
   "cell_type": "code",
   "execution_count": 63,
   "metadata": {},
   "outputs": [
    {
     "data": {
      "text/plain": [
       "165246"
      ]
     },
     "execution_count": 63,
     "metadata": {},
     "output_type": "execute_result"
    }
   ],
   "source": [
    "ID_to_name[23945]\n",
    "recipe_raw_id = name_to_ID['Christmas Dip']\n",
    "recipe_raw_id"
   ]
  },
  {
   "cell_type": "code",
   "execution_count": 93,
   "metadata": {},
   "outputs": [
    {
     "name": "stdout",
     "output_type": "stream",
     "text": [
      "Estimating biases using als...\n",
      "Computing the pearson_baseline similarity matrix...\n",
      "Done computing similarity matrix.\n"
     ]
    },
    {
     "data": {
      "text/plain": [
       "<surprise.prediction_algorithms.knns.KNNBaseline at 0x10fbe4760>"
      ]
     },
     "execution_count": 93,
     "metadata": {},
     "output_type": "execute_result"
    }
   ],
   "source": [
    "# import io  # needed because of weird encoding of u.item file\n",
    "\n",
    "from surprise import KNNBaseline\n",
    "from surprise import Dataset\n",
    "\n",
    "\n",
    "# First, train the algortihm to compute the similarities between items\n",
    "trainset = data.build_full_trainset()\n",
    "sim_options = {'name': 'pearson_baseline', 'user_based': False}\n",
    "algo = KNNBaseline(sim_options=sim_options)\n",
    "algo.fit(trainset)\n"
   ]
  },
  {
   "cell_type": "code",
   "execution_count": 96,
   "metadata": {},
   "outputs": [
    {
     "name": "stdout",
     "output_type": "stream",
     "text": [
      "\n",
      "The 10 nearest neighbors of Artichoke, Cheese and Olive Antipasto are:\n",
      "Double Tomato Bruschetta\n",
      "Annie's Fruit Salsa and Cinnamon Chips\n",
      "Marinated Mushrooms II\n",
      "Better Than Sex Cake II\n",
      "Artichoke Salsa\n",
      "Cilantro and Lime Butter\n",
      "Cocktail Meatballs I\n",
      "Best Ever Crab Cakes\n",
      "Best Bruschetta Ever\n",
      "Pig Picking Cake III\n"
     ]
    }
   ],
   "source": [
    "# Retrieve inner id of the selected recipe\n",
    "recipeName = 'Artichoke, Cheese and Olive Antipasto'\n",
    "recipe_raw_id = name_to_ID[recipeName]\n",
    "recipe_inner_id = algo.trainset.to_inner_iid(recipe_raw_id)\n",
    "\n",
    "# Retrieve inner ids of the nearest neighbors of selected recipe.\n",
    "recipe_neighbors = algo.get_neighbors(recipe_inner_id, k=10)\n",
    "\n",
    "# Convert inner ids of the neighbors into names.\n",
    "recipe_neighbors = (algo.trainset.to_raw_iid(inner_id)\n",
    "                       for inner_id in recipe_neighbors)\n",
    "\n",
    "recipe_neighbors = (ID_to_name[rid]\n",
    "                       for rid in recipe_neighbors)\n",
    "                       \n",
    "print()\n",
    "print('The 10 nearest neighbors of {} are:'.format(recipeName))\n",
    "for recipe in recipe_neighbors:\n",
    "    print(recipe)"
   ]
  }
 ],
 "metadata": {
  "interpreter": {
   "hash": "31f2aee4e71d21fbe5cf8b01ff0e069b9275f58929596ceb00d14d90e3e16cd6"
  },
  "kernelspec": {
   "display_name": "Python 3.8.2 64-bit",
   "language": "python",
   "name": "python3"
  },
  "language_info": {
   "codemirror_mode": {
    "name": "ipython",
    "version": 3
   },
   "file_extension": ".py",
   "mimetype": "text/x-python",
   "name": "python",
   "nbconvert_exporter": "python",
   "pygments_lexer": "ipython3",
   "version": "3.8.9"
  },
  "orig_nbformat": 4
 },
 "nbformat": 4,
 "nbformat_minor": 2
}
